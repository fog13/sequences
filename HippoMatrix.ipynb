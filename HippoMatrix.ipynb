{
 "cells": [
  {
   "cell_type": "markdown",
   "source": [
    "## Learn Hippo Matrices for sequence compression\n",
    "\n",
    "https://hazyresearch.stanford.edu/blog/2020-12-05-hippo"
   ],
   "metadata": {
    "collapsed": false
   },
   "id": "bf4162210c3219b5"
  },
  {
   "cell_type": "code",
   "outputs": [
    {
     "name": "stderr",
     "output_type": "stream",
     "text": [
      "C:\\Users\\scaar\\AppData\\Local\\Temp\\ipykernel_32060\\3146321395.py:1: DeprecationWarning: Importing display from IPython.core.display is deprecated since IPython 7.14, please import from IPython display\n",
      "  from IPython.core.display import Image, display\n"
     ]
    },
    {
     "data": {
      "text/html": "<img src=\"https://hazyresearch.stanford.edu/static/posts/2020-12-05-hippo/hippo.png\" width=\"300\" class=\"unconfined\"/>",
      "text/plain": "<IPython.core.display.Image object>"
     },
     "metadata": {},
     "output_type": "display_data"
    }
   ],
   "source": [
    "from IPython.core.display import Image, display\n",
    "display(Image(url='https://hazyresearch.stanford.edu/static/posts/2020-12-05-hippo/hippo.png', width=300, unconfined=True))"
   ],
   "metadata": {
    "collapsed": false,
    "ExecuteTime": {
     "end_time": "2024-02-23T09:34:29.852976900Z",
     "start_time": "2024-02-23T09:34:29.846471Z"
    }
   },
   "id": "62f922aaa2485c09",
   "execution_count": 6
  },
  {
   "cell_type": "markdown",
   "source": [
    "Hippo matrix is probably a data structure used as memory for understanding sequences.\n",
    "From the blog : `This post describes our method for addressing the fundamental problem of incrementally maintaining a memory representation of sequences`\n",
    "\n",
    "Hippo uses polynomial representation to store memory as fixed length vector, so if dimension of memory is 4, it will be p(x) = a(x^4^) + b(x^3^) + c(x^2^) + d(x^1^) + e and [a,b,c,d,e] will be the vector representation of the memory"
   ],
   "metadata": {
    "collapsed": false
   },
   "id": "ced358ea4e39e7b0"
  },
  {
   "cell_type": "markdown",
   "source": [
    "## Function approximation\n",
    "\n",
    "To understand how Hippo approximates the underlying pattern, we need to understand these components :-\n",
    "\n",
    "- Measure: It defines how much weight to give to input history, from what I can understand, it generally stays the same throughout the process once decided\n",
    "- Polynomial Basis: Polynomial basis is a set of polynomial functions used to approximate other functions. Theoretically we can find close approximation of any function using polynomial basis. We need to define the type of polynomial basis (there are many well known polynomial basis like simple Monomial, Legendre Polynomials, Chebyshev etc.) and the degree of polynomial basis\n",
    "- Coefficient Vector: Coefficient vector serves as the actual memory representation of the input function which we can then use to find the pattern. The updates to coefficient vector are guided by the HiPPO framework which uses measure and polynomial basis. More in depth later maybe\n",
    "\n",
    "### How measure and basis work together\n",
    "\n",
    "- Selection of Historical information: Measure identifies which parts of history are more important. e.g. Sliding window will give importance to only the last n data points ignoring the rest whereas a complete scan will give  importance to all the historical points. Similarly, there can be weighted like exponentially weighted etc\n",
    "- Construction of Approximation: Once historical information is identified, the basis comes into play. The input function's history weighted according to the measure is then approximated using multiple basis functions in our case some polynomial basis.\n",
    "- Coefficient calculation: The approximation process involves determining the best coefficients that, when applied to the basis function give the closest approximation of the weighted history as defined by the measure.\n",
    "\n",
    "\n",
    "### Discrete and Continuous time\n",
    "\n",
    "Although Hippo Framework is formulated in continuous time, it can be converted to discrete time model. Some techniques are used to approximate the continuous time using the discrete time steps in input data for the model.  Discretization process can also adapt to irregularities or missing data by adjusting the updates based on the actual timestamps in input. Discrete HiPPO model:\n",
    "    c(t+1) = A(t)c(t) + B(t)f(t);\n",
    "    where ct is the current memory representation (vector coefficients), ct+1 is the updated memory repr. , At and Bt are trasnsition matrices that are derived from the discretization process \n"
   ],
   "metadata": {
    "collapsed": false
   },
   "id": "52db53cd80fa005d"
  },
  {
   "cell_type": "markdown",
   "source": [
    "## State Space Model\n",
    "\n",
    "x'(t) = Ax(t) + Bu(t)\n",
    "y(t) = Cx(t) + Du(t)"
   ],
   "metadata": {
    "collapsed": false
   },
   "id": "794fa6fd65d515b"
  },
  {
   "cell_type": "code",
   "outputs": [],
   "source": [],
   "metadata": {
    "collapsed": false,
    "ExecuteTime": {
     "end_time": "2024-02-23T15:34:22.022128900Z",
     "start_time": "2024-02-23T15:34:22.004578300Z"
    }
   },
   "id": "a85eec4273f87cd5",
   "execution_count": 6
  },
  {
   "cell_type": "code",
   "outputs": [],
   "source": [
    "\n",
    "\n",
    "\n",
    "\n",
    "\n",
    "\n",
    "\n",
    "\n",
    "\n",
    "\n",
    "\n",
    "\n",
    "\n",
    "\n",
    "\n",
    "\n",
    "\n",
    "\n",
    "\n",
    "\n",
    "\n",
    "\n",
    "\n",
    "\n",
    "\n",
    "\n",
    "\n",
    "\n",
    "\n"
   ],
   "metadata": {
    "collapsed": false
   },
   "id": "dd1ebfcfb2b1b8b5",
   "execution_count": null
  }
 ],
 "metadata": {
  "kernelspec": {
   "display_name": "Python 3",
   "language": "python",
   "name": "python3"
  },
  "language_info": {
   "codemirror_mode": {
    "name": "ipython",
    "version": 2
   },
   "file_extension": ".py",
   "mimetype": "text/x-python",
   "name": "python",
   "nbconvert_exporter": "python",
   "pygments_lexer": "ipython2",
   "version": "2.7.6"
  }
 },
 "nbformat": 4,
 "nbformat_minor": 5
}
