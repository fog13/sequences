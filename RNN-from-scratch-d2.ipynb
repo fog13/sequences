{
 "cells": [
  {
   "cell_type": "code",
   "id": "initial_id",
   "metadata": {
    "collapsed": true,
    "ExecuteTime": {
     "end_time": "2024-06-28T20:37:22.923920Z",
     "start_time": "2024-06-28T20:37:20.280367Z"
    }
   },
   "source": [
    "import torch\n",
    "import torch.nn as nn\n",
    "from torch.utils.data import DataLoader\n",
    "import h5py\n",
    "import dask.dataframe as dd\n",
    "from HDF5Dataset import HDF5Dataset\n",
    "import joblib\n",
    "import numpy as np\n",
    "import json\n",
    "from dask_ml.preprocessing import RobustScaler\n",
    "import matplotlib.pyplot as plt\n",
    "from architecture.RNN import RNN\n",
    "import gc\n",
    "from scipy.io import arff\n",
    "import pandas as pd"
   ],
   "outputs": [],
   "execution_count": 1
  },
  {
   "cell_type": "markdown",
   "source": [
    "In sequential models, current hidden state is a function of the current input and previous hidden state:\n",
    "\n",
    "\n",
    "### h(t) = f(h(t-1), x(t); W)\n",
    "\n",
    "W are the parameters of function (in our case NN)\n",
    " "
   ],
   "metadata": {
    "collapsed": false
   },
   "id": "5a99481283792099"
  },
  {
   "cell_type": "markdown",
   "source": [
    "For RNN:\n",
    "\n",
    "a(t) = W * h(t-1) + U * x(t) + b1\n",
    "h(t) = tanh(a(t))\n",
    "o(t) = V * h(t) + b2"
   ],
   "metadata": {
    "collapsed": false
   },
   "id": "ece7e0312ae56bb5"
  },
  {
   "cell_type": "code",
   "source": [
    "# Initialise device\n",
    "\n",
    "# Check if CUDA is available\n",
    "if torch.cuda.is_available():\n",
    "    device = torch.device(\"cuda\")\n",
    "    print(\"CUDA is available. Primary device set to GPU.\")\n",
    "else:\n",
    "    device = torch.device(\"cpu\")\n",
    "    print(\"CUDA is not available. Primary device set to CPU.\")"
   ],
   "metadata": {
    "collapsed": false,
    "ExecuteTime": {
     "end_time": "2024-06-28T20:37:24.761263Z",
     "start_time": "2024-06-28T20:37:24.758738Z"
    }
   },
   "id": "7035227e94be1de8",
   "outputs": [
    {
     "name": "stdout",
     "output_type": "stream",
     "text": [
      "CUDA is not available. Primary device set to CPU.\n"
     ]
    }
   ],
   "execution_count": 2
  },
  {
   "cell_type": "code",
   "source": [
    "\n",
    "def dask_sequence_generator(input_df, labels, window_size, stride=1, batch_size=20000):\n",
    "    # Convert Dask DataFrame to Dask Array for easier slicing\n",
    "    df_array = input_df.to_dask_array(lengths=True)\n",
    "    label_array = labels.to_dask_array(lengths=True)\n",
    "\n",
    "    # Compute total length using the .shape attribute of the Dask Array\n",
    "    total_length = df_array.shape[0]\n",
    "    \n",
    "    # Initialize start index and lists for sequences and outputs\n",
    "    start = 0\n",
    "    sequences = []\n",
    "    outputs = []\n",
    "    \n",
    "    while start < total_length - window_size:\n",
    "        end = start + window_size\n",
    "        # Append the slice of the array (all columns in the window)\n",
    "        sequences.append(df_array[start:end].compute())  # Compute necessary for yielding numpy arrays\n",
    "        \n",
    "        # Outputs could be the next row or specific columns depending on the task\n",
    "        outputs.append(label_array[end-1].compute())  # Compute the next point\n",
    "        \n",
    "        start += stride\n",
    "        \n",
    "        # Yield batch when enough sequences have been collected\n",
    "        if len(sequences) >= batch_size:\n",
    "            yield np.array(sequences), np.array(outputs)\n",
    "            sequences = []\n",
    "            outputs = []\n",
    "    \n",
    "    # Yield any remaining sequences after the loop\n",
    "    if len(sequences) > 0:\n",
    "        yield np.array(sequences), np.array(outputs)\n",
    "\n"
   ],
   "metadata": {
    "collapsed": false,
    "ExecuteTime": {
     "end_time": "2024-06-28T20:37:25.162360Z",
     "start_time": "2024-06-28T20:37:25.158660Z"
    }
   },
   "id": "575856f552873390",
   "outputs": [],
   "execution_count": 3
  },
  {
   "cell_type": "code",
   "source": [
    "def write_to_hdf5(input_df, label_column, window_size, stride_size, batch_size, storage_path, dataset_name, \n",
    "                  label_name = 'label'):\n",
    "    sequence_data_size = int(np.floor((len(input_df) - window_size) / stride_size ))\n",
    "    print(input_df.columns)\n",
    "    x_df = input_df.drop(columns = [label_column]).persist()\n",
    "    y_df = input_df[[label_column]]\n",
    "    num_features = x_df.shape[1]  # Number of features (columns) in the DataFrame\n",
    "    print(num_features)\n",
    "    gen = dask_sequence_generator(x_df, y_df, window_size, stride_size, batch_size)\n",
    "    \n",
    "    with h5py.File(storage_path, 'w') as f:\n",
    "        # Create a dataset with pre-allocated memory for sequences and features\n",
    "        dset = f.create_dataset(dataset_name, (sequence_data_size, window_size, num_features), dtype='float32')\n",
    "        y_set = f.create_dataset(label_name, sequence_data_size)\n",
    "        count = 0\n",
    "        \n",
    "        for batch in gen:\n",
    "            features = batch[0]\n",
    "            y = batch[1]\n",
    "            num_data = features.shape[0]\n",
    "            dset[count:count + num_data] = features\n",
    "            y_set[count: count + num_data] = np.squeeze(y)\n",
    "            count += num_data"
   ],
   "metadata": {
    "collapsed": false,
    "ExecuteTime": {
     "end_time": "2024-06-28T20:37:25.659513Z",
     "start_time": "2024-06-28T20:37:25.655947Z"
    }
   },
   "id": "679712c41bee09a0",
   "outputs": [],
   "execution_count": 4
  },
  {
   "cell_type": "code",
   "source": [
    "def load_arff_to_dask(file_path):\n",
    "    data, meta = arff.loadarff(file_path)\n",
    "    # Convert to Pandas DataFrame\n",
    "    df = pd.DataFrame(data)\n",
    "    df = dd.from_pandas(df, npartitions=1)\n",
    "    return df\n",
    "\n",
    "df = load_arff_to_dask('data/EEG Eye State.arff')\n",
    "\n",
    "\n",
    "# # Convert the column to numeric float16\n",
    "df['eyeDetection'] = dd.to_numeric(df['eyeDetection'], errors='coerce')\n",
    "df['eyeDetection'] = df['eyeDetection'].astype('int32')\n",
    "# \n",
    "# # Use map_partitions to apply the pandas interpolate method to each partition\n",
    "# df['Daily minimum temperatures'] = df['Daily minimum temperatures'].map_partitions(\n",
    "#     lambda s: s.interpolate(method='linear'), meta=('x', 'float16'))\n",
    "shape = df.shape\n",
    "print(shape[0].compute(), shape[1])\n",
    "display(df.head())"
   ],
   "metadata": {
    "collapsed": false,
    "ExecuteTime": {
     "end_time": "2024-06-28T20:37:26.367270Z",
     "start_time": "2024-06-28T20:37:26.251549Z"
    }
   },
   "id": "5171a0e06044690e",
   "outputs": [
    {
     "name": "stdout",
     "output_type": "stream",
     "text": [
      "14980 15\n"
     ]
    },
    {
     "data": {
      "text/plain": [
       "       AF3       F7       F3      FC5       T7       P7       O1       O2  \\\n",
       "0  4329.23  4009.23  4289.23  4148.21  4350.26  4586.15  4096.92  4641.03   \n",
       "1  4324.62  4004.62  4293.85  4148.72  4342.05  4586.67  4097.44  4638.97   \n",
       "2  4327.69  4006.67  4295.38  4156.41  4336.92  4583.59  4096.92  4630.26   \n",
       "3  4328.72  4011.79  4296.41  4155.90  4343.59  4582.56  4097.44  4630.77   \n",
       "4  4326.15  4011.79  4292.31  4151.28  4347.69  4586.67  4095.90  4627.69   \n",
       "\n",
       "        P8       T8      FC6       F4       F8      AF4  eyeDetection  \n",
       "0  4222.05  4238.46  4211.28  4280.51  4635.90  4393.85             0  \n",
       "1  4210.77  4226.67  4207.69  4279.49  4632.82  4384.10             0  \n",
       "2  4207.69  4222.05  4206.67  4282.05  4628.72  4389.23             0  \n",
       "3  4217.44  4235.38  4210.77  4287.69  4632.31  4396.41             0  \n",
       "4  4210.77  4244.10  4212.82  4288.21  4632.82  4398.46             0  "
      ],
      "text/html": [
       "<div>\n",
       "<style scoped>\n",
       "    .dataframe tbody tr th:only-of-type {\n",
       "        vertical-align: middle;\n",
       "    }\n",
       "\n",
       "    .dataframe tbody tr th {\n",
       "        vertical-align: top;\n",
       "    }\n",
       "\n",
       "    .dataframe thead th {\n",
       "        text-align: right;\n",
       "    }\n",
       "</style>\n",
       "<table border=\"1\" class=\"dataframe\">\n",
       "  <thead>\n",
       "    <tr style=\"text-align: right;\">\n",
       "      <th></th>\n",
       "      <th>AF3</th>\n",
       "      <th>F7</th>\n",
       "      <th>F3</th>\n",
       "      <th>FC5</th>\n",
       "      <th>T7</th>\n",
       "      <th>P7</th>\n",
       "      <th>O1</th>\n",
       "      <th>O2</th>\n",
       "      <th>P8</th>\n",
       "      <th>T8</th>\n",
       "      <th>FC6</th>\n",
       "      <th>F4</th>\n",
       "      <th>F8</th>\n",
       "      <th>AF4</th>\n",
       "      <th>eyeDetection</th>\n",
       "    </tr>\n",
       "  </thead>\n",
       "  <tbody>\n",
       "    <tr>\n",
       "      <th>0</th>\n",
       "      <td>4329.23</td>\n",
       "      <td>4009.23</td>\n",
       "      <td>4289.23</td>\n",
       "      <td>4148.21</td>\n",
       "      <td>4350.26</td>\n",
       "      <td>4586.15</td>\n",
       "      <td>4096.92</td>\n",
       "      <td>4641.03</td>\n",
       "      <td>4222.05</td>\n",
       "      <td>4238.46</td>\n",
       "      <td>4211.28</td>\n",
       "      <td>4280.51</td>\n",
       "      <td>4635.90</td>\n",
       "      <td>4393.85</td>\n",
       "      <td>0</td>\n",
       "    </tr>\n",
       "    <tr>\n",
       "      <th>1</th>\n",
       "      <td>4324.62</td>\n",
       "      <td>4004.62</td>\n",
       "      <td>4293.85</td>\n",
       "      <td>4148.72</td>\n",
       "      <td>4342.05</td>\n",
       "      <td>4586.67</td>\n",
       "      <td>4097.44</td>\n",
       "      <td>4638.97</td>\n",
       "      <td>4210.77</td>\n",
       "      <td>4226.67</td>\n",
       "      <td>4207.69</td>\n",
       "      <td>4279.49</td>\n",
       "      <td>4632.82</td>\n",
       "      <td>4384.10</td>\n",
       "      <td>0</td>\n",
       "    </tr>\n",
       "    <tr>\n",
       "      <th>2</th>\n",
       "      <td>4327.69</td>\n",
       "      <td>4006.67</td>\n",
       "      <td>4295.38</td>\n",
       "      <td>4156.41</td>\n",
       "      <td>4336.92</td>\n",
       "      <td>4583.59</td>\n",
       "      <td>4096.92</td>\n",
       "      <td>4630.26</td>\n",
       "      <td>4207.69</td>\n",
       "      <td>4222.05</td>\n",
       "      <td>4206.67</td>\n",
       "      <td>4282.05</td>\n",
       "      <td>4628.72</td>\n",
       "      <td>4389.23</td>\n",
       "      <td>0</td>\n",
       "    </tr>\n",
       "    <tr>\n",
       "      <th>3</th>\n",
       "      <td>4328.72</td>\n",
       "      <td>4011.79</td>\n",
       "      <td>4296.41</td>\n",
       "      <td>4155.90</td>\n",
       "      <td>4343.59</td>\n",
       "      <td>4582.56</td>\n",
       "      <td>4097.44</td>\n",
       "      <td>4630.77</td>\n",
       "      <td>4217.44</td>\n",
       "      <td>4235.38</td>\n",
       "      <td>4210.77</td>\n",
       "      <td>4287.69</td>\n",
       "      <td>4632.31</td>\n",
       "      <td>4396.41</td>\n",
       "      <td>0</td>\n",
       "    </tr>\n",
       "    <tr>\n",
       "      <th>4</th>\n",
       "      <td>4326.15</td>\n",
       "      <td>4011.79</td>\n",
       "      <td>4292.31</td>\n",
       "      <td>4151.28</td>\n",
       "      <td>4347.69</td>\n",
       "      <td>4586.67</td>\n",
       "      <td>4095.90</td>\n",
       "      <td>4627.69</td>\n",
       "      <td>4210.77</td>\n",
       "      <td>4244.10</td>\n",
       "      <td>4212.82</td>\n",
       "      <td>4288.21</td>\n",
       "      <td>4632.82</td>\n",
       "      <td>4398.46</td>\n",
       "      <td>0</td>\n",
       "    </tr>\n",
       "  </tbody>\n",
       "</table>\n",
       "</div>"
      ]
     },
     "metadata": {},
     "output_type": "display_data"
    }
   ],
   "execution_count": 5
  },
  {
   "metadata": {
    "ExecuteTime": {
     "end_time": "2024-06-28T20:37:27.032607Z",
     "start_time": "2024-06-28T20:37:27.030013Z"
    }
   },
   "cell_type": "code",
   "source": "df.dtypes",
   "id": "c7466a146b0a8c65",
   "outputs": [
    {
     "data": {
      "text/plain": [
       "AF3             float64\n",
       "F7              float64\n",
       "F3              float64\n",
       "FC5             float64\n",
       "T7              float64\n",
       "P7              float64\n",
       "O1              float64\n",
       "O2              float64\n",
       "P8              float64\n",
       "T8              float64\n",
       "FC6             float64\n",
       "F4              float64\n",
       "F8              float64\n",
       "AF4             float64\n",
       "eyeDetection      int32\n",
       "dtype: object"
      ]
     },
     "execution_count": 6,
     "metadata": {},
     "output_type": "execute_result"
    }
   ],
   "execution_count": 6
  },
  {
   "metadata": {
    "ExecuteTime": {
     "end_time": "2024-06-28T20:37:27.934505Z",
     "start_time": "2024-06-28T20:37:27.871658Z"
    }
   },
   "cell_type": "code",
   "source": [
    "# Apply scaler and also save the columns and their order\n",
    "\n",
    "column_order = list(df.columns)\n",
    "print(column_order)\n",
    "with open('meta/model_d2_column_order.json', 'w') as f:\n",
    "    json.dump(column_order, f)\n",
    "    \n",
    "# Create and fit the scaler\n",
    "scaler = RobustScaler()\n",
    "scaler.fit(df)\n",
    "\n",
    "scaled_df = scaler.transform(df)\n",
    "scaled_df = scaled_df.persist()\n",
    "scaled_df['eyeDetection'] = scaled_df['eyeDetection'].astype('long')\n",
    "display(scaled_df.head())"
   ],
   "id": "7c2e39e50eda90a5",
   "outputs": [
    {
     "name": "stdout",
     "output_type": "stream",
     "text": [
      "['AF3', 'F7', 'F3', 'FC5', 'T7', 'P7', 'O1', 'O2', 'P8', 'T8', 'FC6', 'F4', 'F8', 'AF4', 'eyeDetection']\n"
     ]
    },
    {
     "data": {
      "text/plain": [
       "        AF3        F7        F3       FC5        T7        P7        O1  \\\n",
       "0  1.114770  0.111111  1.300341  1.149378  0.733593 -2.137097  1.039782   \n",
       "1  0.967391 -0.031569  1.525597  1.170539  0.200130 -2.102151  1.060062   \n",
       "2  1.065537  0.031879  1.600195  1.489627 -0.133203 -2.309140  1.039782   \n",
       "3  1.098465  0.190344  1.650414  1.468465  0.300195 -2.378360  1.060062   \n",
       "4  1.016304  0.190344  1.450512  1.276763  0.566602 -2.102151  1.000000   \n",
       "\n",
       "         O2        P8        T8       FC6        F4        F8       AF4  \\\n",
       "0  1.421971  1.222102  0.486301  0.512369  0.184197  1.230596  1.266818   \n",
       "1  1.316222  0.611051 -0.134879  0.341579  0.131862  1.115111  0.949951   \n",
       "2  0.869097  0.444204 -0.378293  0.293054  0.263212  0.961380  1.116672   \n",
       "3  0.895277  0.972373  0.324025  0.488107  0.552591  1.095988  1.350016   \n",
       "4  0.737166  0.611051  0.783456  0.585633  0.579271  1.115111  1.416640   \n",
       "\n",
       "   eyeDetection  \n",
       "0             0  \n",
       "1             0  \n",
       "2             0  \n",
       "3             0  \n",
       "4             0  "
      ],
      "text/html": [
       "<div>\n",
       "<style scoped>\n",
       "    .dataframe tbody tr th:only-of-type {\n",
       "        vertical-align: middle;\n",
       "    }\n",
       "\n",
       "    .dataframe tbody tr th {\n",
       "        vertical-align: top;\n",
       "    }\n",
       "\n",
       "    .dataframe thead th {\n",
       "        text-align: right;\n",
       "    }\n",
       "</style>\n",
       "<table border=\"1\" class=\"dataframe\">\n",
       "  <thead>\n",
       "    <tr style=\"text-align: right;\">\n",
       "      <th></th>\n",
       "      <th>AF3</th>\n",
       "      <th>F7</th>\n",
       "      <th>F3</th>\n",
       "      <th>FC5</th>\n",
       "      <th>T7</th>\n",
       "      <th>P7</th>\n",
       "      <th>O1</th>\n",
       "      <th>O2</th>\n",
       "      <th>P8</th>\n",
       "      <th>T8</th>\n",
       "      <th>FC6</th>\n",
       "      <th>F4</th>\n",
       "      <th>F8</th>\n",
       "      <th>AF4</th>\n",
       "      <th>eyeDetection</th>\n",
       "    </tr>\n",
       "  </thead>\n",
       "  <tbody>\n",
       "    <tr>\n",
       "      <th>0</th>\n",
       "      <td>1.114770</td>\n",
       "      <td>0.111111</td>\n",
       "      <td>1.300341</td>\n",
       "      <td>1.149378</td>\n",
       "      <td>0.733593</td>\n",
       "      <td>-2.137097</td>\n",
       "      <td>1.039782</td>\n",
       "      <td>1.421971</td>\n",
       "      <td>1.222102</td>\n",
       "      <td>0.486301</td>\n",
       "      <td>0.512369</td>\n",
       "      <td>0.184197</td>\n",
       "      <td>1.230596</td>\n",
       "      <td>1.266818</td>\n",
       "      <td>0</td>\n",
       "    </tr>\n",
       "    <tr>\n",
       "      <th>1</th>\n",
       "      <td>0.967391</td>\n",
       "      <td>-0.031569</td>\n",
       "      <td>1.525597</td>\n",
       "      <td>1.170539</td>\n",
       "      <td>0.200130</td>\n",
       "      <td>-2.102151</td>\n",
       "      <td>1.060062</td>\n",
       "      <td>1.316222</td>\n",
       "      <td>0.611051</td>\n",
       "      <td>-0.134879</td>\n",
       "      <td>0.341579</td>\n",
       "      <td>0.131862</td>\n",
       "      <td>1.115111</td>\n",
       "      <td>0.949951</td>\n",
       "      <td>0</td>\n",
       "    </tr>\n",
       "    <tr>\n",
       "      <th>2</th>\n",
       "      <td>1.065537</td>\n",
       "      <td>0.031879</td>\n",
       "      <td>1.600195</td>\n",
       "      <td>1.489627</td>\n",
       "      <td>-0.133203</td>\n",
       "      <td>-2.309140</td>\n",
       "      <td>1.039782</td>\n",
       "      <td>0.869097</td>\n",
       "      <td>0.444204</td>\n",
       "      <td>-0.378293</td>\n",
       "      <td>0.293054</td>\n",
       "      <td>0.263212</td>\n",
       "      <td>0.961380</td>\n",
       "      <td>1.116672</td>\n",
       "      <td>0</td>\n",
       "    </tr>\n",
       "    <tr>\n",
       "      <th>3</th>\n",
       "      <td>1.098465</td>\n",
       "      <td>0.190344</td>\n",
       "      <td>1.650414</td>\n",
       "      <td>1.468465</td>\n",
       "      <td>0.300195</td>\n",
       "      <td>-2.378360</td>\n",
       "      <td>1.060062</td>\n",
       "      <td>0.895277</td>\n",
       "      <td>0.972373</td>\n",
       "      <td>0.324025</td>\n",
       "      <td>0.488107</td>\n",
       "      <td>0.552591</td>\n",
       "      <td>1.095988</td>\n",
       "      <td>1.350016</td>\n",
       "      <td>0</td>\n",
       "    </tr>\n",
       "    <tr>\n",
       "      <th>4</th>\n",
       "      <td>1.016304</td>\n",
       "      <td>0.190344</td>\n",
       "      <td>1.450512</td>\n",
       "      <td>1.276763</td>\n",
       "      <td>0.566602</td>\n",
       "      <td>-2.102151</td>\n",
       "      <td>1.000000</td>\n",
       "      <td>0.737166</td>\n",
       "      <td>0.611051</td>\n",
       "      <td>0.783456</td>\n",
       "      <td>0.585633</td>\n",
       "      <td>0.579271</td>\n",
       "      <td>1.115111</td>\n",
       "      <td>1.416640</td>\n",
       "      <td>0</td>\n",
       "    </tr>\n",
       "  </tbody>\n",
       "</table>\n",
       "</div>"
      ]
     },
     "metadata": {},
     "output_type": "display_data"
    }
   ],
   "execution_count": 7
  },
  {
   "metadata": {
    "ExecuteTime": {
     "end_time": "2024-06-28T20:37:33.199251Z",
     "start_time": "2024-06-28T20:37:33.154186Z"
    }
   },
   "cell_type": "code",
   "source": [
    "# Find diff between max and min\n",
    "print(df.min().compute())\n",
    "print((scaled_df.max() - scaled_df.min()).compute())\n",
    "print(scaled_df.mean().compute())\n",
    "print(scaled_df.std().compute())"
   ],
   "id": "5703e255b51658e4",
   "outputs": [
    {
     "name": "stdout",
     "output_type": "stream",
     "text": [
      "AF3             1030.7700\n",
      "F7              2830.7700\n",
      "F3              1040.0000\n",
      "FC5             2453.3300\n",
      "T7              2089.7400\n",
      "P7              2768.2100\n",
      "O1              2086.1500\n",
      "O2              4567.1800\n",
      "P8              1357.9500\n",
      "T8              1816.4100\n",
      "FC6             3273.3300\n",
      "F4              2257.9500\n",
      "F8                86.6667\n",
      "AF4             1366.1500\n",
      "eyeDetection       0.0000\n",
      "dtype: float64\n",
      "AF3              9852.948529\n",
      "F7                153.941504\n",
      "F3                284.764018\n",
      "FC5             26560.608714\n",
      "T7                284.900585\n",
      "P7              24179.824597\n",
      "O1              22039.502730\n",
      "O2                138.445585\n",
      "P8              14316.524919\n",
      "T8                255.951001\n",
      "FC6               168.874881\n",
      "F4                243.438173\n",
      "F8               5707.586550\n",
      "AF4             23221.672083\n",
      "eyeDetection        1.000000\n",
      "dtype: float64\n",
      "AF3             0.881003\n",
      "F7              0.127753\n",
      "F3              0.071303\n",
      "FC5             1.843831\n",
      "T7              0.180057\n",
      "P7              1.752176\n",
      "O1              1.565529\n",
      "O2              0.139985\n",
      "P8              1.047487\n",
      "T8              0.109916\n",
      "FC6             0.092621\n",
      "F4              0.118665\n",
      "F8              0.454643\n",
      "AF4             2.000840\n",
      "eyeDetection    0.448798\n",
      "dtype: float64\n",
      "AF3              79.669827\n",
      "F7                1.421903\n",
      "F3                2.166165\n",
      "FC5             216.448325\n",
      "T7                2.257233\n",
      "P7              196.558437\n",
      "O1              179.443313\n",
      "O2                1.503727\n",
      "P8              115.731773\n",
      "T8                2.004789\n",
      "FC6               1.797620\n",
      "F4                2.131571\n",
      "F8               45.308210\n",
      "AF4             191.461977\n",
      "eyeDetection      0.497388\n",
      "dtype: float64\n"
     ]
    }
   ],
   "execution_count": 8
  },
  {
   "metadata": {
    "ExecuteTime": {
     "end_time": "2024-06-28T20:38:10.333255Z",
     "start_time": "2024-06-28T20:37:34.096628Z"
    }
   },
   "cell_type": "code",
   "source": [
    "window_size = 60\n",
    "stride_size = 1\n",
    "batch_size = 32\n",
    "write_to_hdf5(scaled_df, 'eyeDetection', window_size,\n",
    "              stride_size, batch_size, 'meta/sequence_d2.h5', 'sequences')\n",
    "\n",
    "partitioned_df = scaled_df.repartition(npartitions = 5)\n",
    "write_to_hdf5(partitioned_df, 'eyeDetection', window_size,\n",
    "              stride_size, batch_size, 'meta/partitioned_sequence_d2.h5', 'sequences')\n",
    "\n"
   ],
   "id": "d42809d0f1f59265",
   "outputs": [
    {
     "name": "stdout",
     "output_type": "stream",
     "text": [
      "Index(['AF3', 'F7', 'F3', 'FC5', 'T7', 'P7', 'O1', 'O2', 'P8', 'T8', 'FC6',\n",
      "       'F4', 'F8', 'AF4', 'eyeDetection'],\n",
      "      dtype='object')\n",
      "14\n",
      "Index(['AF3', 'F7', 'F3', 'FC5', 'T7', 'P7', 'O1', 'O2', 'P8', 'T8', 'FC6',\n",
      "       'F4', 'F8', 'AF4', 'eyeDetection'],\n",
      "      dtype='object')\n",
      "14\n"
     ]
    }
   ],
   "execution_count": 9
  },
  {
   "metadata": {
    "ExecuteTime": {
     "end_time": "2024-06-28T20:38:10.339196Z",
     "start_time": "2024-06-28T20:38:10.334854Z"
    }
   },
   "cell_type": "code",
   "source": [
    "## Check if partitioned dataframe has any affect on file generated\n",
    "\n",
    "file_path = 'meta/sequence_d2.h5'\n",
    "hdf5_file = h5py.File(file_path, 'r')\n",
    "data = hdf5_file['sequences']\n",
    "\n",
    "file_path = 'meta/partitioned_sequence_d2.h5'\n",
    "p_hdf5_file = h5py.File(file_path, 'r')\n",
    "p_data = p_hdf5_file['sequences']\n",
    "\n",
    "print(data.shape)\n",
    "print(p_data.shape)\n",
    "\n",
    "# print(p_data[0])\n",
    "# print(data[0])\n",
    "\n",
    "assert len(data) == len(p_data)\n",
    "\n",
    "hdf5_file.close()\n",
    "p_hdf5_file.close()"
   ],
   "id": "9fa2f03681682935",
   "outputs": [
    {
     "name": "stdout",
     "output_type": "stream",
     "text": [
      "(14920, 60, 14)\n",
      "(14920, 60, 14)\n"
     ]
    }
   ],
   "execution_count": 10
  },
  {
   "cell_type": "code",
   "source": [
    "# Open the original HDF5 file\n",
    "file_path = 'meta/partitioned_sequence_d2.h5'\n",
    "hdf5_file = h5py.File(file_path, 'r')  # Open in read-only mode\n",
    "data = hdf5_file['sequences']\n",
    "labels = hdf5_file['label']\n",
    "\n",
    "# Create new HDF5 files for training and testing data\n",
    "train_file = h5py.File('meta/train_data.h5', 'w')\n",
    "test_file = h5py.File('meta/test_data.h5', 'w')\n",
    "\n",
    "# Create datasets for data in the new files\n",
    "train_dataset = train_file.create_dataset('data', (0,) + data.shape[1:], maxshape=(None,) + data.shape[1:], dtype=data.dtype)\n",
    "test_dataset = test_file.create_dataset('data', (0,) + data.shape[1:], maxshape=(None,) + data.shape[1:], dtype=data.dtype)\n",
    "\n",
    "# Create datasets for labels in the new files\n",
    "train_labels = train_file.create_dataset('label', (0,) + labels.shape[1:], maxshape=(None,) + labels.shape[1:], dtype=labels.dtype)\n",
    "test_labels = test_file.create_dataset('label', (0,) + labels.shape[1:], maxshape=(None,) + labels.shape[1:], dtype=labels.dtype)\n"
   ],
   "metadata": {
    "collapsed": false,
    "ExecuteTime": {
     "end_time": "2024-06-28T20:38:10.346446Z",
     "start_time": "2024-06-28T20:38:10.339854Z"
    }
   },
   "id": "693fe67127e4de27",
   "outputs": [],
   "execution_count": 11
  },
  {
   "metadata": {
    "ExecuteTime": {
     "end_time": "2024-06-28T20:38:10.525061Z",
     "start_time": "2024-06-28T20:38:10.347494Z"
    }
   },
   "cell_type": "code",
   "source": [
    "train_segment_size = 90\n",
    "test_segment_size = 10\n",
    "total_samples = data.shape[0]\n",
    "\n",
    "i = 0\n",
    "while i < total_samples:\n",
    "    end_train = min(i + train_segment_size, total_samples)\n",
    "    if end_train > i:  # Check if there is data to process\n",
    "        train_dataset.resize(train_dataset.shape[0] + (end_train - i), axis=0)\n",
    "        train_dataset[-(end_train - i):] = data[i:end_train]\n",
    "        train_labels.resize(train_labels.shape[0] + (end_train - i), axis=0)\n",
    "        train_labels[-(end_train - i):] = labels[i:end_train]\n",
    "\n",
    "    i = end_train\n",
    "    end_test = min(i + test_segment_size, total_samples)\n",
    "    if end_test > i:  # Check if there is data to process\n",
    "        test_dataset.resize(test_dataset.shape[0] + (end_test - i), axis=0)\n",
    "        test_dataset[-(end_test - i):] = data[i:end_test]\n",
    "        test_labels.resize(test_labels.shape[0] + (end_test - i), axis=0)\n",
    "        test_labels[-(end_test - i):] = labels[i:end_test]\n",
    "\n",
    "    i = end_test\n",
    "\n",
    "train_file.close()\n",
    "test_file.close()\n",
    "hdf5_file.close()"
   ],
   "id": "238e9913b6a7816c",
   "outputs": [],
   "execution_count": 12
  },
  {
   "metadata": {
    "ExecuteTime": {
     "end_time": "2024-06-28T20:51:37.537905Z",
     "start_time": "2024-06-28T20:51:37.524273Z"
    }
   },
   "cell_type": "code",
   "source": [
    "# Assume the paths to your HDF5 files\n",
    "train_file_path = 'meta/train_data.h5'\n",
    "test_file_path = 'meta/test_data.h5'\n",
    "\n",
    "# Create dataset instances\n",
    "train_dataset = HDF5Dataset(train_file_path, 'data', 'label')\n",
    "test_dataset = HDF5Dataset(test_file_path, 'data', 'label')\n",
    "\n",
    "\n"
   ],
   "id": "e9e43183f32a687c",
   "outputs": [],
   "execution_count": 47
  },
  {
   "metadata": {
    "ExecuteTime": {
     "end_time": "2024-06-28T20:51:37.908152Z",
     "start_time": "2024-06-28T20:51:37.906074Z"
    }
   },
   "cell_type": "code",
   "source": "# train_dataset.__getitem__(2)[0].shape",
   "id": "a9f4fd3dc9dbfd1c",
   "outputs": [],
   "execution_count": 48
  },
  {
   "metadata": {
    "ExecuteTime": {
     "end_time": "2024-06-28T20:51:38.272431Z",
     "start_time": "2024-06-28T20:51:38.267762Z"
    }
   },
   "cell_type": "code",
   "source": [
    "# Save scaler to disk\n",
    "joblib.dump(scaler, 'meta/model_d2_robust_scaler.joblib')"
   ],
   "id": "b68c304922f45d89",
   "outputs": [
    {
     "data": {
      "text/plain": [
       "['meta/model_d2_robust_scaler.joblib']"
      ]
     },
     "execution_count": 49,
     "metadata": {},
     "output_type": "execute_result"
    }
   ],
   "execution_count": 49
  },
  {
   "metadata": {
    "ExecuteTime": {
     "end_time": "2024-06-28T20:51:44.974110Z",
     "start_time": "2024-06-28T20:51:44.962465Z"
    }
   },
   "cell_type": "code",
   "source": [
    "# model = RNN(14, 56, 1, 2, [7, 1], [56, 84])\n",
    "model = RNN(14, 84, 1, 1)\n",
    "classifying_loss = nn.BCEWithLogitsLoss()\n",
    "adam_optimizer = torch.optim.Adam(model.parameters(), lr=0.001)\n",
    "# scheduler = torch.optim.lr_scheduler.ReduceLROnPlateau(adam_optimizer, 'min')"
   ],
   "id": "630ab742c461917",
   "outputs": [
    {
     "name": "stdout",
     "output_type": "stream",
     "text": [
      "[14] [1]\n"
     ]
    }
   ],
   "execution_count": 50
  },
  {
   "metadata": {
    "ExecuteTime": {
     "end_time": "2024-06-28T20:56:06.319412Z",
     "start_time": "2024-06-28T20:51:47.886042Z"
    }
   },
   "cell_type": "code",
   "source": [
    "# Create DataLoader instances\n",
    "train_loader_arr = []\n",
    "train_loader = DataLoader(train_dataset, batch_size = 32, num_workers = 4, shuffle = True)\n",
    "ns_train_loader = DataLoader(train_dataset, batch_size = 32, num_workers = 4, shuffle = False)\n",
    "\n",
    "train_loader_arr.append(train_loader)\n",
    "train_loader_arr.append(ns_train_loader)\n",
    "\n",
    "\n",
    "test_loader = DataLoader(test_dataset, batch_size=32, shuffle=False)\n",
    "\n",
    "num_epochs = 26\n",
    "\n",
    "for epoch in range(num_epochs):\n",
    "    loss_arr = []\n",
    "    for data, labels in train_loader_arr[1]:\n",
    "        adam_optimizer.zero_grad()\n",
    "        res = model.forward(data)\n",
    "        out = res[:, -1, :]\n",
    "        loss = classifying_loss(out, labels.view(-1, 1))\n",
    "        \n",
    "        loss_arr.append(loss.item())\n",
    "        loss.backward()\n",
    "        adam_optimizer.step()\n",
    "        \n",
    "    test_loss_arr = []\n",
    "    with torch.no_grad():\n",
    "        for data, labels in test_loader:\n",
    "            res = model.forward(data)\n",
    "            out = res[:, -1, :]\n",
    "            loss = classifying_loss(out, labels.view(-1, 1))\n",
    "            test_loss_arr.append(loss.item())\n",
    "    \n",
    "    print(\"Epoch - \", epoch, \" loss: \",np.mean(loss_arr), \" test loss: \",np.mean(test_loss_arr))\n",
    "    "
   ],
   "id": "bfb237099ab03589",
   "outputs": [
    {
     "name": "stdout",
     "output_type": "stream",
     "text": [
      "Epoch -  0  loss:  0.6584269974912916  test loss:  0.8210924528539181\n",
      "Epoch -  1  loss:  0.6395241881587675  test loss:  0.854361072803537\n",
      "Epoch -  2  loss:  0.6461919865437916  test loss:  0.8921647481620312\n",
      "Epoch -  3  loss:  0.653406257306536  test loss:  0.775446530431509\n",
      "Epoch -  4  loss:  0.6362992917320558  test loss:  0.8155646299322447\n",
      "Epoch -  5  loss:  0.6446638842068967  test loss:  0.7217755789558092\n",
      "Epoch -  6  loss:  0.6537251536867448  test loss:  0.7192945641775926\n",
      "Epoch -  7  loss:  0.6496457370973768  test loss:  0.74522831539313\n",
      "Epoch -  8  loss:  0.6426988592992227  test loss:  0.7835205489148697\n"
     ]
    },
    {
     "name": "stderr",
     "output_type": "stream",
     "text": [
      "Exception ignored in: <function _MultiProcessingDataLoaderIter.__del__ at 0x116f7fb00>\n",
      "Traceback (most recent call last):\n",
      "  File \"/Users/priyanshusharma/anaconda3/envs/dev/lib/python3.11/site-packages/torch/utils/data/dataloader.py\", line 1478, in __del__\n",
      "    self._shutdown_workers()\n",
      "  File \"/Users/priyanshusharma/anaconda3/envs/dev/lib/python3.11/site-packages/torch/utils/data/dataloader.py\", line 1442, in _shutdown_workers\n",
      "    w.join(timeout=_utils.MP_STATUS_CHECK_INTERVAL)\n",
      "  File \"/Users/priyanshusharma/anaconda3/envs/dev/lib/python3.11/multiprocessing/process.py\", line 149, in join\n",
      "    res = self._popen.wait(timeout)\n",
      "          ^^^^^^^^^^^^^^^^^^^^^^^^^\n",
      "  File \"/Users/priyanshusharma/anaconda3/envs/dev/lib/python3.11/multiprocessing/popen_fork.py\", line 40, in wait\n",
      "    if not wait([self.sentinel], timeout):\n",
      "           ^^^^^^^^^^^^^^^^^^^^^^^^^^^^^^\n",
      "  File \"/Users/priyanshusharma/anaconda3/envs/dev/lib/python3.11/multiprocessing/connection.py\", line 930, in wait\n",
      "    ready = selector.select(timeout)\n",
      "            ^^^^^^^^^^^^^^^^^^^^^^^^\n",
      "  File \"/Users/priyanshusharma/anaconda3/envs/dev/lib/python3.11/selectors.py\", line 415, in select\n",
      "    fd_event_list = self._selector.poll(timeout)\n",
      "                    ^^^^^^^^^^^^^^^^^^^^^^^^^^^^\n",
      "KeyboardInterrupt: \n"
     ]
    },
    {
     "ename": "KeyboardInterrupt",
     "evalue": "",
     "output_type": "error",
     "traceback": [
      "\u001B[0;31m---------------------------------------------------------------------------\u001B[0m",
      "\u001B[0;31mKeyboardInterrupt\u001B[0m                         Traceback (most recent call last)",
      "Cell \u001B[0;32mIn[51], line 18\u001B[0m\n\u001B[1;32m     16\u001B[0m \u001B[38;5;28;01mfor\u001B[39;00m data, labels \u001B[38;5;129;01min\u001B[39;00m train_loader_arr[\u001B[38;5;241m1\u001B[39m]:\n\u001B[1;32m     17\u001B[0m     adam_optimizer\u001B[38;5;241m.\u001B[39mzero_grad()\n\u001B[0;32m---> 18\u001B[0m     res \u001B[38;5;241m=\u001B[39m \u001B[43mmodel\u001B[49m\u001B[38;5;241;43m.\u001B[39;49m\u001B[43mforward\u001B[49m\u001B[43m(\u001B[49m\u001B[43mdata\u001B[49m\u001B[43m)\u001B[49m\n\u001B[1;32m     19\u001B[0m     out \u001B[38;5;241m=\u001B[39m res[:, \u001B[38;5;241m-\u001B[39m\u001B[38;5;241m1\u001B[39m, :]\n\u001B[1;32m     20\u001B[0m     loss \u001B[38;5;241m=\u001B[39m classifying_loss(out, labels\u001B[38;5;241m.\u001B[39mview(\u001B[38;5;241m-\u001B[39m\u001B[38;5;241m1\u001B[39m, \u001B[38;5;241m1\u001B[39m))\n",
      "File \u001B[0;32m~/projects/sequences/models/RNN.py:71\u001B[0m, in \u001B[0;36mRNN.forward\u001B[0;34m(self, input_sequence)\u001B[0m\n\u001B[1;32m     69\u001B[0m \u001B[38;5;66;03m# iterate over each layer in rnn\u001B[39;00m\n\u001B[1;32m     70\u001B[0m \u001B[38;5;28;01mfor\u001B[39;00m i, rnn_cell \u001B[38;5;129;01min\u001B[39;00m \u001B[38;5;28menumerate\u001B[39m(\u001B[38;5;28mself\u001B[39m\u001B[38;5;241m.\u001B[39mrnn_cells):\n\u001B[0;32m---> 71\u001B[0m     y_out, h_out \u001B[38;5;241m=\u001B[39m \u001B[43mrnn_cell\u001B[49m\u001B[43m(\u001B[49m\u001B[43mtoken_tensor\u001B[49m\u001B[43m,\u001B[49m\u001B[43m \u001B[49m\u001B[43mhidden_state\u001B[49m\u001B[43m[\u001B[49m\u001B[43mi\u001B[49m\u001B[43m]\u001B[49m\u001B[43m)\u001B[49m\n\u001B[1;32m     72\u001B[0m     token_tensor \u001B[38;5;241m=\u001B[39m y_out\n\u001B[1;32m     74\u001B[0m     \u001B[38;5;66;03m# update hidden state of rnn cells of layer\u001B[39;00m\n",
      "File \u001B[0;32m~/anaconda3/envs/dev/lib/python3.11/site-packages/torch/nn/modules/module.py:1518\u001B[0m, in \u001B[0;36mModule._wrapped_call_impl\u001B[0;34m(self, *args, **kwargs)\u001B[0m\n\u001B[1;32m   1516\u001B[0m     \u001B[38;5;28;01mreturn\u001B[39;00m \u001B[38;5;28mself\u001B[39m\u001B[38;5;241m.\u001B[39m_compiled_call_impl(\u001B[38;5;241m*\u001B[39margs, \u001B[38;5;241m*\u001B[39m\u001B[38;5;241m*\u001B[39mkwargs)  \u001B[38;5;66;03m# type: ignore[misc]\u001B[39;00m\n\u001B[1;32m   1517\u001B[0m \u001B[38;5;28;01melse\u001B[39;00m:\n\u001B[0;32m-> 1518\u001B[0m     \u001B[38;5;28;01mreturn\u001B[39;00m \u001B[38;5;28;43mself\u001B[39;49m\u001B[38;5;241;43m.\u001B[39;49m\u001B[43m_call_impl\u001B[49m\u001B[43m(\u001B[49m\u001B[38;5;241;43m*\u001B[39;49m\u001B[43margs\u001B[49m\u001B[43m,\u001B[49m\u001B[43m \u001B[49m\u001B[38;5;241;43m*\u001B[39;49m\u001B[38;5;241;43m*\u001B[39;49m\u001B[43mkwargs\u001B[49m\u001B[43m)\u001B[49m\n",
      "File \u001B[0;32m~/anaconda3/envs/dev/lib/python3.11/site-packages/torch/nn/modules/module.py:1527\u001B[0m, in \u001B[0;36mModule._call_impl\u001B[0;34m(self, *args, **kwargs)\u001B[0m\n\u001B[1;32m   1522\u001B[0m \u001B[38;5;66;03m# If we don't have any hooks, we want to skip the rest of the logic in\u001B[39;00m\n\u001B[1;32m   1523\u001B[0m \u001B[38;5;66;03m# this function, and just call forward.\u001B[39;00m\n\u001B[1;32m   1524\u001B[0m \u001B[38;5;28;01mif\u001B[39;00m \u001B[38;5;129;01mnot\u001B[39;00m (\u001B[38;5;28mself\u001B[39m\u001B[38;5;241m.\u001B[39m_backward_hooks \u001B[38;5;129;01mor\u001B[39;00m \u001B[38;5;28mself\u001B[39m\u001B[38;5;241m.\u001B[39m_backward_pre_hooks \u001B[38;5;129;01mor\u001B[39;00m \u001B[38;5;28mself\u001B[39m\u001B[38;5;241m.\u001B[39m_forward_hooks \u001B[38;5;129;01mor\u001B[39;00m \u001B[38;5;28mself\u001B[39m\u001B[38;5;241m.\u001B[39m_forward_pre_hooks\n\u001B[1;32m   1525\u001B[0m         \u001B[38;5;129;01mor\u001B[39;00m _global_backward_pre_hooks \u001B[38;5;129;01mor\u001B[39;00m _global_backward_hooks\n\u001B[1;32m   1526\u001B[0m         \u001B[38;5;129;01mor\u001B[39;00m _global_forward_hooks \u001B[38;5;129;01mor\u001B[39;00m _global_forward_pre_hooks):\n\u001B[0;32m-> 1527\u001B[0m     \u001B[38;5;28;01mreturn\u001B[39;00m \u001B[43mforward_call\u001B[49m\u001B[43m(\u001B[49m\u001B[38;5;241;43m*\u001B[39;49m\u001B[43margs\u001B[49m\u001B[43m,\u001B[49m\u001B[43m \u001B[49m\u001B[38;5;241;43m*\u001B[39;49m\u001B[38;5;241;43m*\u001B[39;49m\u001B[43mkwargs\u001B[49m\u001B[43m)\u001B[49m\n\u001B[1;32m   1529\u001B[0m \u001B[38;5;28;01mtry\u001B[39;00m:\n\u001B[1;32m   1530\u001B[0m     result \u001B[38;5;241m=\u001B[39m \u001B[38;5;28;01mNone\u001B[39;00m\n",
      "File \u001B[0;32m~/projects/sequences/models/RNN.py:27\u001B[0m, in \u001B[0;36mRNNCell.forward\u001B[0;34m(self, input_tensor, prev_hidden_state)\u001B[0m\n\u001B[1;32m     25\u001B[0m \u001B[38;5;66;03m# hidden_tensor = torch.tanh(inner_tensor)\u001B[39;00m\n\u001B[1;32m     26\u001B[0m hidden_tensor \u001B[38;5;241m=\u001B[39m \u001B[38;5;28mself\u001B[39m\u001B[38;5;241m.\u001B[39mdropout(hidden_tensor)\n\u001B[0;32m---> 27\u001B[0m output_tensor \u001B[38;5;241m=\u001B[39m \u001B[38;5;28;43mself\u001B[39;49m\u001B[38;5;241;43m.\u001B[39;49m\u001B[43moutput_layer\u001B[49m\u001B[43m(\u001B[49m\u001B[43mhidden_tensor\u001B[49m\u001B[43m)\u001B[49m\n\u001B[1;32m     28\u001B[0m \u001B[38;5;66;03m# output_tensor = self.dropout(output_tensor)\u001B[39;00m\n\u001B[1;32m     30\u001B[0m \u001B[38;5;28;01mreturn\u001B[39;00m output_tensor, hidden_tensor\n",
      "File \u001B[0;32m~/anaconda3/envs/dev/lib/python3.11/site-packages/torch/nn/modules/module.py:1518\u001B[0m, in \u001B[0;36mModule._wrapped_call_impl\u001B[0;34m(self, *args, **kwargs)\u001B[0m\n\u001B[1;32m   1516\u001B[0m     \u001B[38;5;28;01mreturn\u001B[39;00m \u001B[38;5;28mself\u001B[39m\u001B[38;5;241m.\u001B[39m_compiled_call_impl(\u001B[38;5;241m*\u001B[39margs, \u001B[38;5;241m*\u001B[39m\u001B[38;5;241m*\u001B[39mkwargs)  \u001B[38;5;66;03m# type: ignore[misc]\u001B[39;00m\n\u001B[1;32m   1517\u001B[0m \u001B[38;5;28;01melse\u001B[39;00m:\n\u001B[0;32m-> 1518\u001B[0m     \u001B[38;5;28;01mreturn\u001B[39;00m \u001B[38;5;28;43mself\u001B[39;49m\u001B[38;5;241;43m.\u001B[39;49m\u001B[43m_call_impl\u001B[49m\u001B[43m(\u001B[49m\u001B[38;5;241;43m*\u001B[39;49m\u001B[43margs\u001B[49m\u001B[43m,\u001B[49m\u001B[43m \u001B[49m\u001B[38;5;241;43m*\u001B[39;49m\u001B[38;5;241;43m*\u001B[39;49m\u001B[43mkwargs\u001B[49m\u001B[43m)\u001B[49m\n",
      "File \u001B[0;32m~/anaconda3/envs/dev/lib/python3.11/site-packages/torch/nn/modules/module.py:1527\u001B[0m, in \u001B[0;36mModule._call_impl\u001B[0;34m(self, *args, **kwargs)\u001B[0m\n\u001B[1;32m   1522\u001B[0m \u001B[38;5;66;03m# If we don't have any hooks, we want to skip the rest of the logic in\u001B[39;00m\n\u001B[1;32m   1523\u001B[0m \u001B[38;5;66;03m# this function, and just call forward.\u001B[39;00m\n\u001B[1;32m   1524\u001B[0m \u001B[38;5;28;01mif\u001B[39;00m \u001B[38;5;129;01mnot\u001B[39;00m (\u001B[38;5;28mself\u001B[39m\u001B[38;5;241m.\u001B[39m_backward_hooks \u001B[38;5;129;01mor\u001B[39;00m \u001B[38;5;28mself\u001B[39m\u001B[38;5;241m.\u001B[39m_backward_pre_hooks \u001B[38;5;129;01mor\u001B[39;00m \u001B[38;5;28mself\u001B[39m\u001B[38;5;241m.\u001B[39m_forward_hooks \u001B[38;5;129;01mor\u001B[39;00m \u001B[38;5;28mself\u001B[39m\u001B[38;5;241m.\u001B[39m_forward_pre_hooks\n\u001B[1;32m   1525\u001B[0m         \u001B[38;5;129;01mor\u001B[39;00m _global_backward_pre_hooks \u001B[38;5;129;01mor\u001B[39;00m _global_backward_hooks\n\u001B[1;32m   1526\u001B[0m         \u001B[38;5;129;01mor\u001B[39;00m _global_forward_hooks \u001B[38;5;129;01mor\u001B[39;00m _global_forward_pre_hooks):\n\u001B[0;32m-> 1527\u001B[0m     \u001B[38;5;28;01mreturn\u001B[39;00m \u001B[43mforward_call\u001B[49m\u001B[43m(\u001B[49m\u001B[38;5;241;43m*\u001B[39;49m\u001B[43margs\u001B[49m\u001B[43m,\u001B[49m\u001B[43m \u001B[49m\u001B[38;5;241;43m*\u001B[39;49m\u001B[38;5;241;43m*\u001B[39;49m\u001B[43mkwargs\u001B[49m\u001B[43m)\u001B[49m\n\u001B[1;32m   1529\u001B[0m \u001B[38;5;28;01mtry\u001B[39;00m:\n\u001B[1;32m   1530\u001B[0m     result \u001B[38;5;241m=\u001B[39m \u001B[38;5;28;01mNone\u001B[39;00m\n",
      "File \u001B[0;32m~/anaconda3/envs/dev/lib/python3.11/site-packages/torch/nn/modules/linear.py:114\u001B[0m, in \u001B[0;36mLinear.forward\u001B[0;34m(self, input)\u001B[0m\n\u001B[1;32m    113\u001B[0m \u001B[38;5;28;01mdef\u001B[39;00m \u001B[38;5;21mforward\u001B[39m(\u001B[38;5;28mself\u001B[39m, \u001B[38;5;28minput\u001B[39m: Tensor) \u001B[38;5;241m-\u001B[39m\u001B[38;5;241m>\u001B[39m Tensor:\n\u001B[0;32m--> 114\u001B[0m     \u001B[38;5;28;01mreturn\u001B[39;00m \u001B[43mF\u001B[49m\u001B[38;5;241;43m.\u001B[39;49m\u001B[43mlinear\u001B[49m\u001B[43m(\u001B[49m\u001B[38;5;28;43minput\u001B[39;49m\u001B[43m,\u001B[49m\u001B[43m \u001B[49m\u001B[38;5;28;43mself\u001B[39;49m\u001B[38;5;241;43m.\u001B[39;49m\u001B[43mweight\u001B[49m\u001B[43m,\u001B[49m\u001B[43m \u001B[49m\u001B[38;5;28;43mself\u001B[39;49m\u001B[38;5;241;43m.\u001B[39;49m\u001B[43mbias\u001B[49m\u001B[43m)\u001B[49m\n",
      "\u001B[0;31mKeyboardInterrupt\u001B[0m: "
     ]
    }
   ],
   "execution_count": 51
  },
  {
   "metadata": {
    "ExecuteTime": {
     "end_time": "2024-06-28T20:47:03.867043Z",
     "start_time": "2024-06-28T20:47:03.854312Z"
    }
   },
   "cell_type": "code",
   "source": "out.shape, labels.view(-1, 1).shape",
   "id": "4e15c57ec0f7fb42",
   "outputs": [
    {
     "data": {
      "text/plain": [
       "(torch.Size([32, 1]), torch.Size([32, 1]))"
      ]
     },
     "execution_count": 40,
     "metadata": {},
     "output_type": "execute_result"
    }
   ],
   "execution_count": 40
  },
  {
   "metadata": {
    "ExecuteTime": {
     "end_time": "2024-06-28T20:51:33.106493Z",
     "start_time": "2024-06-28T20:51:32.842098Z"
    }
   },
   "cell_type": "code",
   "source": [
    "del train_loader\n",
    "del ns_train_loader\n",
    "del train_dataset\n",
    "del test_dataset\n",
    "gc.collect()"
   ],
   "id": "f063f4087a96f17",
   "outputs": [
    {
     "data": {
      "text/plain": [
       "4424"
      ]
     },
     "execution_count": 46,
     "metadata": {},
     "output_type": "execute_result"
    }
   ],
   "execution_count": 46
  },
  {
   "metadata": {
    "ExecuteTime": {
     "end_time": "2024-06-28T20:39:11.977281Z",
     "start_time": "2024-06-28T20:39:11.967976Z"
    }
   },
   "cell_type": "code",
   "source": [
    "# !jupyter nbconvert --to script RNN-from-scratch.ipynb\n",
    "# \n",
    "# h5py.__version__\n",
    "labels.dtype"
   ],
   "id": "97d4ec5b549b626a",
   "outputs": [
    {
     "data": {
      "text/plain": [
       "torch.float32"
      ]
     },
     "execution_count": 18,
     "metadata": {},
     "output_type": "execute_result"
    }
   ],
   "execution_count": 18
  },
  {
   "metadata": {
    "ExecuteTime": {
     "end_time": "2024-06-28T20:34:51.029587Z",
     "start_time": "2024-06-28T20:34:50.975941Z"
    }
   },
   "cell_type": "code",
   "source": [
    "loss_sum = 0\n",
    "# model_basic = RNN(1, 3, 1, 2)\n",
    "actual = []\n",
    "pred = []\n",
    "\n",
    "with torch.no_grad():\n",
    "    for data, labels in test_loader:\n",
    "        res = model.forward(data)\n",
    "        out = res[:, -1, :]\n",
    "        print(out.shape, labels.view(-1).shape)\n",
    "        break\n",
    "        # print(scaler.inverse_transform(out), scaler.inverse_transform(labels))\n",
    "        # actual.extend(scaler.inverse_transform(labels).detach().numpy())\n",
    "        # pred.extend(scaler.inverse_transform(out).detach().numpy())\n",
    "        loss = classifying_loss(out, labels.view(-1, 1))\n",
    "        loss_sum += loss.item()\n",
    "    \n",
    "print(loss_sum)"
   ],
   "id": "d09a3beb4062272f",
   "outputs": [
    {
     "name": "stdout",
     "output_type": "stream",
     "text": [
      "torch.Size([64, 1]) torch.Size([64])\n",
      "0\n"
     ]
    }
   ],
   "execution_count": 25
  },
  {
   "metadata": {
    "ExecuteTime": {
     "end_time": "2024-06-27T19:06:02.415267Z",
     "start_time": "2024-06-27T19:06:02.279572Z"
    }
   },
   "cell_type": "code",
   "source": [
    "plt.plot(actual)\n",
    "plt.plot(pred)\n",
    "plt.show()"
   ],
   "id": "7cdd0b5f0b5da9d1",
   "outputs": [
    {
     "data": {
      "text/plain": [
       "<Figure size 640x480 with 1 Axes>"
      ],
      "image/png": "[encoded data removed]"
     },
     "metadata": {},
     "output_type": "display_data"
    }
   ],
   "execution_count": 22
  },
  {
   "metadata": {
    "ExecuteTime": {
     "end_time": "2024-06-27T19:06:05.695939Z",
     "start_time": "2024-06-27T19:06:05.691610Z"
    }
   },
   "cell_type": "code",
   "source": [
    "err_arr = []\n",
    "for pair in zip(actual, pred):\n",
    "    err_arr.append(abs((pair[0] - pair[1])[0]))\n",
    "print(100*np.mean(err_arr)/np.mean(actual), \" % error on average\")"
   ],
   "id": "849575d4bf5c852b",
   "outputs": [
    {
     "name": "stdout",
     "output_type": "stream",
     "text": [
      "24.14046288595072  % error on average\n"
     ]
    }
   ],
   "execution_count": 23
  },
  {
   "metadata": {},
   "cell_type": "code",
   "outputs": [],
   "execution_count": null,
   "source": "",
   "id": "9c9faa6c25464de4"
  }
 ],
 "metadata": {
  "kernelspec": {
   "display_name": "Python 3",
   "language": "python",
   "name": "python3"
  },
  "language_info": {
   "codemirror_mode": {
    "name": "ipython",
    "version": 2
   },
   "file_extension": ".py",
   "mimetype": "text/x-python",
   "name": "python",
   "nbconvert_exporter": "python",
   "pygments_lexer": "ipython2",
   "version": "2.7.6"
  }
 },
 "nbformat": 4,
 "nbformat_minor": 5
}
