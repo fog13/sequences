{
 "cells": [
  {
   "cell_type": "code",
   "id": "initial_id",
   "metadata": {
    "collapsed": true,
    "ExecuteTime": {
     "end_time": "2024-07-28T15:00:09.497583Z",
     "start_time": "2024-07-28T15:00:09.487445Z"
    }
   },
   "source": [
    "import torch.nn as nn\n",
    "import torch.functional as F\n",
    "import pandas as pd\n",
    "import numpy as np\n",
    "import helpers.util as my_utils"
   ],
   "outputs": [],
   "execution_count": 3
  },
  {
   "metadata": {
    "ExecuteTime": {
     "end_time": "2024-07-28T15:00:22.466625Z",
     "start_time": "2024-07-28T15:00:22.377380Z"
    }
   },
   "cell_type": "code",
   "source": [
    "device = my_utils.torch_get_device()\n",
    "print(device)"
   ],
   "id": "817a2501fccd88fe",
   "outputs": [
    {
     "name": "stdout",
     "output_type": "stream",
     "text": [
      "Cuda device available.. Using Cuda as primary device\n",
      "cuda\n"
     ]
    }
   ],
   "execution_count": 4
  },
  {
   "metadata": {},
   "cell_type": "code",
   "outputs": [],
   "execution_count": null,
   "source": "embedding_dim = 64\n",
   "id": "4b2847ffa632c412"
  }
 ],
 "metadata": {
  "kernelspec": {
   "display_name": "Python 3",
   "language": "python",
   "name": "python3"
  },
  "language_info": {
   "codemirror_mode": {
    "name": "ipython",
    "version": 2
   },
   "file_extension": ".py",
   "mimetype": "text/x-python",
   "name": "python",
   "nbconvert_exporter": "python",
   "pygments_lexer": "ipython2",
   "version": "2.7.6"
  }
 },
 "nbformat": 4,
 "nbformat_minor": 5
}
